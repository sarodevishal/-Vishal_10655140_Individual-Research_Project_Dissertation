{
  "nbformat": 4,
  "nbformat_minor": 0,
  "metadata": {
    "colab": {
      "name": "Probability.ipynb",
      "provenance": [],
      "collapsed_sections": [],
      "mount_file_id": "15Z2xsSHHp8faiO90Sqw1AUX7hznT0ncu",
      "authorship_tag": "ABX9TyNzrerL2j2WGyD8Zq4iT9q8",
      "include_colab_link": true
    },
    "kernelspec": {
      "name": "python3",
      "display_name": "Python 3"
    },
    "language_info": {
      "name": "python"
    }
  },
  "cells": [
    {
      "cell_type": "markdown",
      "metadata": {
        "id": "view-in-github",
        "colab_type": "text"
      },
      "source": [
        "<a href=\"https://colab.research.google.com/github/sarodevishal/CV/blob/master/Probability.ipynb\" target=\"_parent\"><img src=\"https://colab.research.google.com/assets/colab-badge.svg\" alt=\"Open In Colab\"/></a>"
      ]
    },
    {
      "cell_type": "code",
      "execution_count": null,
      "metadata": {
        "id": "cN65inQJ2dl7",
        "colab": {
          "base_uri": "https://localhost:8080/"
        },
        "outputId": "e5cf59c6-1f26-40d8-c48e-a8bb45a7bd46"
      },
      "outputs": [
        {
          "output_type": "stream",
          "name": "stdout",
          "text": [
            "Looking in indexes: https://pypi.org/simple, https://us-python.pkg.dev/colab-wheels/public/simple/\n",
            "Requirement already satisfied: preprocessor in /usr/local/lib/python3.7/dist-packages (1.1.3)\n"
          ]
        }
      ],
      "source": [
        "pip install preprocessor"
      ]
    },
    {
      "cell_type": "code",
      "source": [
        "#formspring_data_1\n",
        "import pandas as pd\n",
        "import urllib\n",
        "from sklearn.pipeline import Pipeline\n",
        "from sklearn.feature_extraction.text import CountVectorizer\n",
        "from sklearn.feature_extraction.text import TfidfTransformer\n",
        "from sklearn.linear_model import LogisticRegression\n",
        "from sklearn.metrics import roc_auc_score\n",
        "import pickle\n",
        "import preprocessor as p\n",
        "import numpy as np"
      ],
      "metadata": {
        "id": "ajyeiiPPcHby"
      },
      "execution_count": null,
      "outputs": []
    },
    {
      "cell_type": "code",
      "source": [
        "comments = pd.read_csv('/content/drive/MyDrive/Main_Project/Detecting-Cyberbullying-Across-SMPs-master/data 2/formspring_data_1.csv', sep = '\\t', index_col = 0)"
      ],
      "metadata": {
        "id": "BY1SjplH2nI4"
      },
      "execution_count": null,
      "outputs": []
    },
    {
      "cell_type": "code",
      "source": [
        "def get_label(post):\n",
        "    label = 1 if ((post.ans1 == \"Yes\" and post.ans2 == \"Yes\") or (post.ans2 == \"Yes\" and post.ans3 == \"Yes\") or (post.ans1 == \"Yes\" and post.ans3 == \"Yes\")) else 0\n",
        "    return label\n"
      ],
      "metadata": {
        "id": "LUpYbgWs25vM"
      },
      "execution_count": null,
      "outputs": []
    },
    {
      "cell_type": "code",
      "source": [
        "comments['attack'] = comments.apply(get_label, axis=1)"
      ],
      "metadata": {
        "id": "2-uszYT8250K"
      },
      "execution_count": null,
      "outputs": []
    },
    {
      "cell_type": "code",
      "source": [
        "import string\n",
        "comments['post'] = comments['post'].apply(lambda x: x.replace('Q:',' ').replace('A:',' ').replace('<br>',' '))\n",
        "comments['post'] = comments['post'].apply(lambda x: x.replace('Q:',' ').replace('A:',' ').replace('<br>',' '))\n",
        "comments['comment'] = comments['post'].apply(lambda x: \"\".join(l for l in x if l not in string.punctuation))"
      ],
      "metadata": {
        "id": "FmVOzbd6252l"
      },
      "execution_count": null,
      "outputs": []
    },
    {
      "cell_type": "code",
      "source": [
        "comments = comments[['comment','asker','attack']]"
      ],
      "metadata": {
        "id": "eNZXT_F-255A"
      },
      "execution_count": null,
      "outputs": []
    },
    {
      "cell_type": "code",
      "source": [
        "comments.head()"
      ],
      "metadata": {
        "colab": {
          "base_uri": "https://localhost:8080/",
          "height": 238
        },
        "id": "PjAFYwlt2563",
        "outputId": "bb99b1fa-2c0c-4178-a9f0-aa3daa00dbe0"
      },
      "execution_count": null,
      "outputs": [
        {
          "output_type": "execute_result",
          "data": {
            "text/plain": [
              "                                                           comment asker  \\\n",
              "userid                                                                     \n",
              "aguitarplayer94    what039s your favorite song D   I like too m...  None   \n",
              "aprilpooh15                                      3   3  haha jk 33  None   \n",
              "aprilpooh15        quothey angel  you duh sexyquot   Really Tha...  None   \n",
              "aprilpooh15                                                         None   \n",
              "aprilpooh15                                          MEOWWW   RAWR  None   \n",
              "\n",
              "                 attack  \n",
              "userid                   \n",
              "aguitarplayer94       0  \n",
              "aprilpooh15           0  \n",
              "aprilpooh15           0  \n",
              "aprilpooh15           0  \n",
              "aprilpooh15           0  "
            ],
            "text/html": [
              "\n",
              "  <div id=\"df-72ec3552-d482-4b6e-8f25-7129bbabf5b9\">\n",
              "    <div class=\"colab-df-container\">\n",
              "      <div>\n",
              "<style scoped>\n",
              "    .dataframe tbody tr th:only-of-type {\n",
              "        vertical-align: middle;\n",
              "    }\n",
              "\n",
              "    .dataframe tbody tr th {\n",
              "        vertical-align: top;\n",
              "    }\n",
              "\n",
              "    .dataframe thead th {\n",
              "        text-align: right;\n",
              "    }\n",
              "</style>\n",
              "<table border=\"1\" class=\"dataframe\">\n",
              "  <thead>\n",
              "    <tr style=\"text-align: right;\">\n",
              "      <th></th>\n",
              "      <th>comment</th>\n",
              "      <th>asker</th>\n",
              "      <th>attack</th>\n",
              "    </tr>\n",
              "    <tr>\n",
              "      <th>userid</th>\n",
              "      <th></th>\n",
              "      <th></th>\n",
              "      <th></th>\n",
              "    </tr>\n",
              "  </thead>\n",
              "  <tbody>\n",
              "    <tr>\n",
              "      <th>aguitarplayer94</th>\n",
              "      <td>what039s your favorite song D   I like too m...</td>\n",
              "      <td>None</td>\n",
              "      <td>0</td>\n",
              "    </tr>\n",
              "    <tr>\n",
              "      <th>aprilpooh15</th>\n",
              "      <td>3   3  haha jk 33</td>\n",
              "      <td>None</td>\n",
              "      <td>0</td>\n",
              "    </tr>\n",
              "    <tr>\n",
              "      <th>aprilpooh15</th>\n",
              "      <td>quothey angel  you duh sexyquot   Really Tha...</td>\n",
              "      <td>None</td>\n",
              "      <td>0</td>\n",
              "    </tr>\n",
              "    <tr>\n",
              "      <th>aprilpooh15</th>\n",
              "      <td></td>\n",
              "      <td>None</td>\n",
              "      <td>0</td>\n",
              "    </tr>\n",
              "    <tr>\n",
              "      <th>aprilpooh15</th>\n",
              "      <td>MEOWWW   RAWR</td>\n",
              "      <td>None</td>\n",
              "      <td>0</td>\n",
              "    </tr>\n",
              "  </tbody>\n",
              "</table>\n",
              "</div>\n",
              "      <button class=\"colab-df-convert\" onclick=\"convertToInteractive('df-72ec3552-d482-4b6e-8f25-7129bbabf5b9')\"\n",
              "              title=\"Convert this dataframe to an interactive table.\"\n",
              "              style=\"display:none;\">\n",
              "        \n",
              "  <svg xmlns=\"http://www.w3.org/2000/svg\" height=\"24px\"viewBox=\"0 0 24 24\"\n",
              "       width=\"24px\">\n",
              "    <path d=\"M0 0h24v24H0V0z\" fill=\"none\"/>\n",
              "    <path d=\"M18.56 5.44l.94 2.06.94-2.06 2.06-.94-2.06-.94-.94-2.06-.94 2.06-2.06.94zm-11 1L8.5 8.5l.94-2.06 2.06-.94-2.06-.94L8.5 2.5l-.94 2.06-2.06.94zm10 10l.94 2.06.94-2.06 2.06-.94-2.06-.94-.94-2.06-.94 2.06-2.06.94z\"/><path d=\"M17.41 7.96l-1.37-1.37c-.4-.4-.92-.59-1.43-.59-.52 0-1.04.2-1.43.59L10.3 9.45l-7.72 7.72c-.78.78-.78 2.05 0 2.83L4 21.41c.39.39.9.59 1.41.59.51 0 1.02-.2 1.41-.59l7.78-7.78 2.81-2.81c.8-.78.8-2.07 0-2.86zM5.41 20L4 18.59l7.72-7.72 1.47 1.35L5.41 20z\"/>\n",
              "  </svg>\n",
              "      </button>\n",
              "      \n",
              "  <style>\n",
              "    .colab-df-container {\n",
              "      display:flex;\n",
              "      flex-wrap:wrap;\n",
              "      gap: 12px;\n",
              "    }\n",
              "\n",
              "    .colab-df-convert {\n",
              "      background-color: #E8F0FE;\n",
              "      border: none;\n",
              "      border-radius: 50%;\n",
              "      cursor: pointer;\n",
              "      display: none;\n",
              "      fill: #1967D2;\n",
              "      height: 32px;\n",
              "      padding: 0 0 0 0;\n",
              "      width: 32px;\n",
              "    }\n",
              "\n",
              "    .colab-df-convert:hover {\n",
              "      background-color: #E2EBFA;\n",
              "      box-shadow: 0px 1px 2px rgba(60, 64, 67, 0.3), 0px 1px 3px 1px rgba(60, 64, 67, 0.15);\n",
              "      fill: #174EA6;\n",
              "    }\n",
              "\n",
              "    [theme=dark] .colab-df-convert {\n",
              "      background-color: #3B4455;\n",
              "      fill: #D2E3FC;\n",
              "    }\n",
              "\n",
              "    [theme=dark] .colab-df-convert:hover {\n",
              "      background-color: #434B5C;\n",
              "      box-shadow: 0px 1px 3px 1px rgba(0, 0, 0, 0.15);\n",
              "      filter: drop-shadow(0px 1px 2px rgba(0, 0, 0, 0.3));\n",
              "      fill: #FFFFFF;\n",
              "    }\n",
              "  </style>\n",
              "\n",
              "      <script>\n",
              "        const buttonEl =\n",
              "          document.querySelector('#df-72ec3552-d482-4b6e-8f25-7129bbabf5b9 button.colab-df-convert');\n",
              "        buttonEl.style.display =\n",
              "          google.colab.kernel.accessAllowed ? 'block' : 'none';\n",
              "\n",
              "        async function convertToInteractive(key) {\n",
              "          const element = document.querySelector('#df-72ec3552-d482-4b6e-8f25-7129bbabf5b9');\n",
              "          const dataTable =\n",
              "            await google.colab.kernel.invokeFunction('convertToInteractive',\n",
              "                                                     [key], {});\n",
              "          if (!dataTable) return;\n",
              "\n",
              "          const docLinkHtml = 'Like what you see? Visit the ' +\n",
              "            '<a target=\"_blank\" href=https://colab.research.google.com/notebooks/data_table.ipynb>data table notebook</a>'\n",
              "            + ' to learn more about interactive tables.';\n",
              "          element.innerHTML = '';\n",
              "          dataTable['output_type'] = 'display_data';\n",
              "          await google.colab.output.renderOutput(dataTable, element);\n",
              "          const docLink = document.createElement('div');\n",
              "          docLink.innerHTML = docLinkHtml;\n",
              "          element.appendChild(docLink);\n",
              "        }\n",
              "      </script>\n",
              "    </div>\n",
              "  </div>\n",
              "  "
            ]
          },
          "metadata": {},
          "execution_count": 8
        }
      ]
    },
    {
      "cell_type": "code",
      "source": [
        "swear_words = \"/content/drive/MyDrive/Main_Project/Detecting-Cyberbullying-Across-SMPs-master/swear_words.txt\"\n",
        "word_list = []\n",
        "with open(swear_words) as f:\n",
        "    word_list = f.read().splitlines()"
      ],
      "metadata": {
        "id": "hh542LOi258l"
      },
      "execution_count": null,
      "outputs": []
    },
    {
      "cell_type": "code",
      "source": [
        "from textblob import TextBlob"
      ],
      "metadata": {
        "id": "Loljxehg3bRI"
      },
      "execution_count": null,
      "outputs": []
    },
    {
      "cell_type": "code",
      "source": [
        "def tokens(post):\n",
        "    return TextBlob(post.words)\n",
        "    \n",
        "def get_bad_word_count(post):\n",
        "    x = tokens(post)\n",
        "    count = 0\n",
        "    bad_words = []\n",
        "    for word in x:\n",
        "        if word in word_list:\n",
        "            count+=1\n",
        "            bad_words.append(word)\n",
        "    return count, str(bad_words)\n",
        "\n",
        "\n"
      ],
      "metadata": {
        "id": "xozP0Lzc25-7"
      },
      "execution_count": null,
      "outputs": []
    },
    {
      "cell_type": "code",
      "source": [
        "comments['bad_word_count'],comments['bad_word_list']= zip(*comments['comment'].map(get_bad_word_count))"
      ],
      "metadata": {
        "id": "gzTGlAWB6V-9"
      },
      "execution_count": null,
      "outputs": []
    },
    {
      "cell_type": "code",
      "source": [
        "def data_analysis(comments):\n",
        "    total = len(comments)\n",
        "    bully = len(comments[comments['attack']==1])\n",
        "    swear = len(comments[comments['bad_word_count']>0])\n",
        "    anonymous = len(comments[comments['asker']=='None'])\n",
        "    swear_bully = len(comments[(comments['bad_word_count']>0) & (comments['attack']==1) ])\n",
        "    anonymous_bully = len(comments[(comments['attack']==1) & (comments['asker']=='None')])\n",
        "    anonymous_swear = len(comments[(comments['bad_word_count']>0)  & (comments['asker']=='None')])\n",
        "    anonymous_bully_swear = len(comments[(comments['attack']==1) & (comments['bad_word_count']>0)  & (comments['asker']=='None')])"
      ],
      "metadata": {
        "id": "mE8Gii3C26BB"
      },
      "execution_count": null,
      "outputs": []
    },
    {
      "cell_type": "code",
      "source": [
        "swear = len(comments[comments['bad_word_count']>0])"
      ],
      "metadata": {
        "id": "0lI3Ohum6JdG"
      },
      "execution_count": null,
      "outputs": []
    },
    {
      "cell_type": "code",
      "source": [
        "swear_bully = len(comments[(comments['bad_word_count']>0) & (comments['attack']==1) ])"
      ],
      "metadata": {
        "id": "GA15W5Pb6Nuy"
      },
      "execution_count": null,
      "outputs": []
    },
    {
      "cell_type": "code",
      "source": [
        "def data_analysis(comments):\n",
        "    total = len(comments)\n",
        "    bully = len(comments[comments['attack']==1])\n",
        "    swear = len(comments[comments['bad_word_count']>0])\n",
        "    swear_bully = len(comments[(comments['bad_word_count']>0) & (comments['attack']==1) ])"
      ],
      "metadata": {
        "id": "mEhvc_Ub3inc"
      },
      "execution_count": null,
      "outputs": []
    },
    {
      "cell_type": "code",
      "source": [
        "P_B = float(bully)/total\n",
        "P_S = float(swear)/total\n",
        "P_B_S = float(swear_bully)/swear\n",
        "P_S_B = float(swear_bully)/bully"
      ],
      "metadata": {
        "id": "8LUWCklMcaxx"
      },
      "execution_count": null,
      "outputs": []
    },
    {
      "cell_type": "code",
      "source": [
        "swear = len(comments[comments['bad_word_count']>0])\n"
      ],
      "metadata": {
        "id": "FlvehJmw56i9"
      },
      "execution_count": null,
      "outputs": []
    },
    {
      "cell_type": "code",
      "source": [
        "P_S = float(swear)/total"
      ],
      "metadata": {
        "id": "Zth7_laM6lT7"
      },
      "execution_count": null,
      "outputs": []
    },
    {
      "cell_type": "code",
      "source": [
        "bully = len(comments[comments['attack']==1])"
      ],
      "metadata": {
        "id": "EdnbNLXS4_1H"
      },
      "execution_count": null,
      "outputs": []
    },
    {
      "cell_type": "code",
      "source": [
        "total = len(comments)"
      ],
      "metadata": {
        "id": "u8WvdJWK5HGe"
      },
      "execution_count": null,
      "outputs": []
    },
    {
      "cell_type": "code",
      "source": [
        "P_B = float(bully)/total"
      ],
      "metadata": {
        "id": "KKWfpn-n5HJr"
      },
      "execution_count": null,
      "outputs": []
    },
    {
      "cell_type": "code",
      "source": [
        "print(\"P(A): \" + str(P_S))"
      ],
      "metadata": {
        "colab": {
          "base_uri": "https://localhost:8080/"
        },
        "id": "E72coGwm5HNz",
        "outputId": "4b248815-bfd5-4298-85aa-793fc2a2dd90"
      },
      "execution_count": null,
      "outputs": [
        {
          "output_type": "stream",
          "name": "stdout",
          "text": [
            "P(A): 0.135052827843381\n"
          ]
        }
      ]
    },
    {
      "cell_type": "code",
      "source": [
        "print(\"P(B): \" + str(P_B))"
      ],
      "metadata": {
        "colab": {
          "base_uri": "https://localhost:8080/"
        },
        "id": "NBcIiZ_Z4wnK",
        "outputId": "ffb08a4d-e0b5-4d43-810d-12cb371e9a9a"
      },
      "execution_count": null,
      "outputs": [
        {
          "output_type": "stream",
          "name": "stdout",
          "text": [
            "P(B): 0.06075315117826666\n"
          ]
        }
      ]
    },
    {
      "cell_type": "code",
      "source": [
        "#Twitter"
      ],
      "metadata": {
        "id": "wOEm4Bl78Y8P"
      },
      "execution_count": null,
      "outputs": []
    },
    {
      "cell_type": "code",
      "source": [
        "import string\n",
        "\n",
        "def load_data():\n",
        "    filename = \"/content/drive/MyDrive/Main_Project/Detecting-Cyberbullying-Across-SMPs-master/data 2/twitter_data.CSV\"\n",
        "    print(\"Loading data from file: \" + filename)\n",
        "    data = pickle.load(open(filename, 'rb'))\n",
        "    x_text = []\n",
        "    labels = [] \n",
        "    ids = []\n",
        "    for i in range(len(data)):\n",
        "        text = \"\".join(l for l in data[i]['text'] if l not in string.punctuation)\n",
        "        x_text.append((data[i]['text']).encode('utf-8'))\n",
        "        labels.append(data[i]['label'])\n",
        "    return x_text,labels"
      ],
      "metadata": {
        "id": "QXLoRxDT8ZAp"
      },
      "execution_count": null,
      "outputs": []
    },
    {
      "cell_type": "code",
      "source": [
        "x_text, labels = load_data()\n",
        "dict1 = {'racism':1,'sexism':1,'none':0}  # Both are 1 because both are cases of bullying\n",
        "labels = np.array([dict1[b] for b in labels])"
      ],
      "metadata": {
        "colab": {
          "base_uri": "https://localhost:8080/"
        },
        "id": "bPPqME6g8ZDJ",
        "outputId": "223454fe-922f-4dee-e409-fb56fde4aa6e"
      },
      "execution_count": null,
      "outputs": [
        {
          "output_type": "stream",
          "name": "stdout",
          "text": [
            "Loading data from file: /content/drive/MyDrive/Main_Project/Detecting-Cyberbullying-Across-SMPs-master/data 2/twitter_data.CSV\n"
          ]
        }
      ]
    },
    {
      "cell_type": "code",
      "source": [
        "comments = pd.DataFrame({'comment': x_text, 'attack': labels})"
      ],
      "metadata": {
        "id": "U_xMScf28ZFU"
      },
      "execution_count": null,
      "outputs": []
    },
    {
      "cell_type": "code",
      "source": [
        "comments.head()"
      ],
      "metadata": {
        "colab": {
          "base_uri": "https://localhost:8080/",
          "height": 206
        },
        "id": "jW2-ptew8ZH_",
        "outputId": "200643f9-7c7d-4f38-a8d0-6e8092384a83"
      },
      "execution_count": null,
      "outputs": [
        {
          "output_type": "execute_result",
          "data": {
            "text/plain": [
              "                                             comment  attack\n",
              "0  b'rt @colonelkickhead: another bloody instant ...       0\n",
              "1  b'@azzamalirhabi @jihadia8 this video of the p...       0\n",
              "2  b\"oh really ?  no more instant restaurants ?  ...       0\n",
              "3  b'rt @benfrancisallen: it has not been a good ...       0\n",
              "4  b'rt @notofeminism: i don\\xe2\\x80\\x99t need fe...       0"
            ],
            "text/html": [
              "\n",
              "  <div id=\"df-cbc2f8e2-03f2-4f9c-88fd-06bf8130bf54\">\n",
              "    <div class=\"colab-df-container\">\n",
              "      <div>\n",
              "<style scoped>\n",
              "    .dataframe tbody tr th:only-of-type {\n",
              "        vertical-align: middle;\n",
              "    }\n",
              "\n",
              "    .dataframe tbody tr th {\n",
              "        vertical-align: top;\n",
              "    }\n",
              "\n",
              "    .dataframe thead th {\n",
              "        text-align: right;\n",
              "    }\n",
              "</style>\n",
              "<table border=\"1\" class=\"dataframe\">\n",
              "  <thead>\n",
              "    <tr style=\"text-align: right;\">\n",
              "      <th></th>\n",
              "      <th>comment</th>\n",
              "      <th>attack</th>\n",
              "    </tr>\n",
              "  </thead>\n",
              "  <tbody>\n",
              "    <tr>\n",
              "      <th>0</th>\n",
              "      <td>b'rt @colonelkickhead: another bloody instant ...</td>\n",
              "      <td>0</td>\n",
              "    </tr>\n",
              "    <tr>\n",
              "      <th>1</th>\n",
              "      <td>b'@azzamalirhabi @jihadia8 this video of the p...</td>\n",
              "      <td>0</td>\n",
              "    </tr>\n",
              "    <tr>\n",
              "      <th>2</th>\n",
              "      <td>b\"oh really ?  no more instant restaurants ?  ...</td>\n",
              "      <td>0</td>\n",
              "    </tr>\n",
              "    <tr>\n",
              "      <th>3</th>\n",
              "      <td>b'rt @benfrancisallen: it has not been a good ...</td>\n",
              "      <td>0</td>\n",
              "    </tr>\n",
              "    <tr>\n",
              "      <th>4</th>\n",
              "      <td>b'rt @notofeminism: i don\\xe2\\x80\\x99t need fe...</td>\n",
              "      <td>0</td>\n",
              "    </tr>\n",
              "  </tbody>\n",
              "</table>\n",
              "</div>\n",
              "      <button class=\"colab-df-convert\" onclick=\"convertToInteractive('df-cbc2f8e2-03f2-4f9c-88fd-06bf8130bf54')\"\n",
              "              title=\"Convert this dataframe to an interactive table.\"\n",
              "              style=\"display:none;\">\n",
              "        \n",
              "  <svg xmlns=\"http://www.w3.org/2000/svg\" height=\"24px\"viewBox=\"0 0 24 24\"\n",
              "       width=\"24px\">\n",
              "    <path d=\"M0 0h24v24H0V0z\" fill=\"none\"/>\n",
              "    <path d=\"M18.56 5.44l.94 2.06.94-2.06 2.06-.94-2.06-.94-.94-2.06-.94 2.06-2.06.94zm-11 1L8.5 8.5l.94-2.06 2.06-.94-2.06-.94L8.5 2.5l-.94 2.06-2.06.94zm10 10l.94 2.06.94-2.06 2.06-.94-2.06-.94-.94-2.06-.94 2.06-2.06.94z\"/><path d=\"M17.41 7.96l-1.37-1.37c-.4-.4-.92-.59-1.43-.59-.52 0-1.04.2-1.43.59L10.3 9.45l-7.72 7.72c-.78.78-.78 2.05 0 2.83L4 21.41c.39.39.9.59 1.41.59.51 0 1.02-.2 1.41-.59l7.78-7.78 2.81-2.81c.8-.78.8-2.07 0-2.86zM5.41 20L4 18.59l7.72-7.72 1.47 1.35L5.41 20z\"/>\n",
              "  </svg>\n",
              "      </button>\n",
              "      \n",
              "  <style>\n",
              "    .colab-df-container {\n",
              "      display:flex;\n",
              "      flex-wrap:wrap;\n",
              "      gap: 12px;\n",
              "    }\n",
              "\n",
              "    .colab-df-convert {\n",
              "      background-color: #E8F0FE;\n",
              "      border: none;\n",
              "      border-radius: 50%;\n",
              "      cursor: pointer;\n",
              "      display: none;\n",
              "      fill: #1967D2;\n",
              "      height: 32px;\n",
              "      padding: 0 0 0 0;\n",
              "      width: 32px;\n",
              "    }\n",
              "\n",
              "    .colab-df-convert:hover {\n",
              "      background-color: #E2EBFA;\n",
              "      box-shadow: 0px 1px 2px rgba(60, 64, 67, 0.3), 0px 1px 3px 1px rgba(60, 64, 67, 0.15);\n",
              "      fill: #174EA6;\n",
              "    }\n",
              "\n",
              "    [theme=dark] .colab-df-convert {\n",
              "      background-color: #3B4455;\n",
              "      fill: #D2E3FC;\n",
              "    }\n",
              "\n",
              "    [theme=dark] .colab-df-convert:hover {\n",
              "      background-color: #434B5C;\n",
              "      box-shadow: 0px 1px 3px 1px rgba(0, 0, 0, 0.15);\n",
              "      filter: drop-shadow(0px 1px 2px rgba(0, 0, 0, 0.3));\n",
              "      fill: #FFFFFF;\n",
              "    }\n",
              "  </style>\n",
              "\n",
              "      <script>\n",
              "        const buttonEl =\n",
              "          document.querySelector('#df-cbc2f8e2-03f2-4f9c-88fd-06bf8130bf54 button.colab-df-convert');\n",
              "        buttonEl.style.display =\n",
              "          google.colab.kernel.accessAllowed ? 'block' : 'none';\n",
              "\n",
              "        async function convertToInteractive(key) {\n",
              "          const element = document.querySelector('#df-cbc2f8e2-03f2-4f9c-88fd-06bf8130bf54');\n",
              "          const dataTable =\n",
              "            await google.colab.kernel.invokeFunction('convertToInteractive',\n",
              "                                                     [key], {});\n",
              "          if (!dataTable) return;\n",
              "\n",
              "          const docLinkHtml = 'Like what you see? Visit the ' +\n",
              "            '<a target=\"_blank\" href=https://colab.research.google.com/notebooks/data_table.ipynb>data table notebook</a>'\n",
              "            + ' to learn more about interactive tables.';\n",
              "          element.innerHTML = '';\n",
              "          dataTable['output_type'] = 'display_data';\n",
              "          await google.colab.output.renderOutput(dataTable, element);\n",
              "          const docLink = document.createElement('div');\n",
              "          docLink.innerHTML = docLinkHtml;\n",
              "          element.appendChild(docLink);\n",
              "        }\n",
              "      </script>\n",
              "    </div>\n",
              "  </div>\n",
              "  "
            ]
          },
          "metadata": {},
          "execution_count": 79
        }
      ]
    },
    {
      "cell_type": "code",
      "source": [
        "swear_words = \"/content/drive/MyDrive/Main_Project/Detecting-Cyberbullying-Across-SMPs-master/data 2/swear_words.txt\"\n",
        "word_list = []\n",
        "with open(swear_words) as f:\n",
        "    word_list = f.read().splitlines()"
      ],
      "metadata": {
        "id": "_RPcOK0I8ZKU"
      },
      "execution_count": null,
      "outputs": []
    },
    {
      "cell_type": "code",
      "source": [
        "import nltk\n",
        "nltk.download('punkt')"
      ],
      "metadata": {
        "colab": {
          "base_uri": "https://localhost:8080/"
        },
        "id": "HKAoK0Y19Znl",
        "outputId": "01c5c0fb-a83e-4ee4-eb99-a1ff004c1563"
      },
      "execution_count": null,
      "outputs": [
        {
          "output_type": "stream",
          "name": "stderr",
          "text": [
            "[nltk_data] Downloading package punkt to /root/nltk_data...\n",
            "[nltk_data]   Package punkt is already up-to-date!\n"
          ]
        },
        {
          "output_type": "execute_result",
          "data": {
            "text/plain": [
              "True"
            ]
          },
          "metadata": {},
          "execution_count": 81
        }
      ]
    },
    {
      "cell_type": "code",
      "source": [
        "from textblob import TextBlob\n",
        "\n",
        "def tokens(post):\n",
        "    return TextBlob(post.decode('utf8')).words\n",
        "    \n",
        "def get_bad_word_count(post):\n",
        "    x = tokens(post)\n",
        "    count = 0\n",
        "    bad_words = []\n",
        "    for word in x:\n",
        "        if word in word_list:\n",
        "            count+=1\n",
        "            bad_words.append(word)\n",
        "    return count, str(bad_words)\n",
        "\n",
        "comments['bad_word_count'],comments['bad_word_list']= zip(*comments['comment'].map(get_bad_word_count))"
      ],
      "metadata": {
        "id": "3VJ-iplR8ZMZ"
      },
      "execution_count": null,
      "outputs": []
    },
    {
      "cell_type": "code",
      "source": [
        "total = len(comments)\n",
        "bully = len(comments[comments['attack']==1])\n",
        "swear = len(comments[comments['bad_word_count']>0])\n",
        "swear_bully = len(comments[(comments['bad_word_count']>0) & (comments['attack']==1) ])"
      ],
      "metadata": {
        "id": "uDf_S0DR8ZOc"
      },
      "execution_count": null,
      "outputs": []
    },
    {
      "cell_type": "code",
      "source": [
        "P_B = float(bully)/total\n",
        "P_S = float(swear)/total\n",
        "P_B_S = float(swear_bully)/swear\n",
        "P_S_B = float(swear_bully)/bully"
      ],
      "metadata": {
        "id": "L5znidH98ZRR"
      },
      "execution_count": null,
      "outputs": []
    },
    {
      "cell_type": "code",
      "source": [
        "print(\"P(B): \" + str(P_B))"
      ],
      "metadata": {
        "colab": {
          "base_uri": "https://localhost:8080/"
        },
        "id": "GuEnrMR_8Zbu",
        "outputId": "2ff3b9e4-8b14-4c98-ecd8-4e7bca2723db"
      },
      "execution_count": null,
      "outputs": [
        {
          "output_type": "stream",
          "name": "stdout",
          "text": [
            "P(B): 0.31410814170292106\n"
          ]
        }
      ]
    },
    {
      "cell_type": "code",
      "source": [
        "print(\"P(S): \" + str(P_S))"
      ],
      "metadata": {
        "colab": {
          "base_uri": "https://localhost:8080/"
        },
        "id": "SGvkcBnz-BWW",
        "outputId": "616f3728-a769-488b-d98c-7d55cb706bb6"
      },
      "execution_count": null,
      "outputs": [
        {
          "output_type": "stream",
          "name": "stdout",
          "text": [
            "P(S): 0.135052827843381\n"
          ]
        }
      ]
    },
    {
      "cell_type": "code",
      "source": [
        "print(\"P(B|S): \" + str(P_B_S))"
      ],
      "metadata": {
        "colab": {
          "base_uri": "https://localhost:8080/"
        },
        "id": "YS5xEmk5-BaC",
        "outputId": "d4647a39-9c5b-4522-c4d4-aa0db59708b6"
      },
      "execution_count": null,
      "outputs": [
        {
          "output_type": "stream",
          "name": "stdout",
          "text": [
            "P(B|S): 0.42982052462034054\n"
          ]
        }
      ]
    },
    {
      "cell_type": "code",
      "source": [
        "print(\"P(S|B): \" + str(P_S_B))"
      ],
      "metadata": {
        "colab": {
          "base_uri": "https://localhost:8080/"
        },
        "id": "mRfqUd-Y-BcA",
        "outputId": "22fc342f-71db-4a59-ad9b-270b2e728121"
      },
      "execution_count": null,
      "outputs": [
        {
          "output_type": "stream",
          "name": "stdout",
          "text": [
            "P(S|B): 0.184804115552038\n"
          ]
        }
      ]
    },
    {
      "cell_type": "code",
      "source": [
        "#wiki"
      ],
      "metadata": {
        "id": "Ur5LnO37-Bd8"
      },
      "execution_count": null,
      "outputs": []
    },
    {
      "cell_type": "code",
      "source": [
        "comments = pd.read_csv('/content/drive/MyDrive/Main_Project/Detecting-Cyberbullying-Across-SMPs-master/data 2/attack_annotated_comments.CSV', sep = '\\t', index_col = 0)\n"
      ],
      "metadata": {
        "id": "aufqW7zt-Bi1"
      },
      "execution_count": null,
      "outputs": []
    },
    {
      "cell_type": "code",
      "source": [
        "annotations = pd.read_csv('/content/drive/MyDrive/Main_Project/Detecting-Cyberbullying-Across-SMPs-master/data 2/attack_annotations.csv',  sep = '\\t')"
      ],
      "metadata": {
        "id": "IdDD7-U--ftG"
      },
      "execution_count": null,
      "outputs": []
    },
    {
      "cell_type": "code",
      "source": [
        "# labels a comment as an atack if the majority of annoatators did so\n",
        "labels = annotations.groupby('rev_id')['attack'].mean() > 0.5"
      ],
      "metadata": {
        "id": "l1rNbfuX-rAz"
      },
      "execution_count": null,
      "outputs": []
    },
    {
      "cell_type": "code",
      "source": [
        "# join labels and comments\n",
        "comments['attack'] = labels"
      ],
      "metadata": {
        "id": "aovkvPV0-rDz"
      },
      "execution_count": null,
      "outputs": []
    },
    {
      "cell_type": "code",
      "source": [
        "import string\n",
        "# remove newline and tab tokens\n",
        "comments['comment'] = comments['comment'].apply(lambda x: x.replace(\"NEWLINE_TOKEN\", \" \"))\n",
        "comments['comment'] = comments['comment'].apply(lambda x: x.replace(\"TAB_TOKEN\", \" \"))\n",
        "comments['comment'] = comments['comment'].apply(lambda x: x.lower())\n",
        "comments['comment'] = comments['comment'].apply(lambda x: \"\".join(l for l in x if l not in string.punctuation))\n",
        "\n"
      ],
      "metadata": {
        "id": "uQBkyNW--rFU"
      },
      "execution_count": null,
      "outputs": []
    },
    {
      "cell_type": "code",
      "source": [
        "comments.head()"
      ],
      "metadata": {
        "colab": {
          "base_uri": "https://localhost:8080/",
          "height": 238
        },
        "id": "LCyIb9n8-rHw",
        "outputId": "fdb1cd6d-2cfd-4e68-bc0e-9c9fbfbc3681"
      },
      "execution_count": null,
      "outputs": [
        {
          "output_type": "execute_result",
          "data": {
            "text/plain": [
              "                                                  comment  year  logged_in  \\\n",
              "rev_id                                                                       \n",
              "37675    this is not creative  those are the dictionar...  2002      False   \n",
              "44816      the term standard model is itself less npov...  2002      False   \n",
              "49851     true or false the situation as of march 2002...  2002      False   \n",
              "89320    next maybe you could work on being less conde...  2002       True   \n",
              "93890                 this page will need disambiguation   2002       True   \n",
              "\n",
              "             ns  sample  split  attack  \n",
              "rev_id                                  \n",
              "37675   article  random  train   False  \n",
              "44816   article  random  train   False  \n",
              "49851   article  random  train   False  \n",
              "89320   article  random    dev   False  \n",
              "93890   article  random  train   False  "
            ],
            "text/html": [
              "\n",
              "  <div id=\"df-e925d904-93b9-4dce-aeaa-383009847935\">\n",
              "    <div class=\"colab-df-container\">\n",
              "      <div>\n",
              "<style scoped>\n",
              "    .dataframe tbody tr th:only-of-type {\n",
              "        vertical-align: middle;\n",
              "    }\n",
              "\n",
              "    .dataframe tbody tr th {\n",
              "        vertical-align: top;\n",
              "    }\n",
              "\n",
              "    .dataframe thead th {\n",
              "        text-align: right;\n",
              "    }\n",
              "</style>\n",
              "<table border=\"1\" class=\"dataframe\">\n",
              "  <thead>\n",
              "    <tr style=\"text-align: right;\">\n",
              "      <th></th>\n",
              "      <th>comment</th>\n",
              "      <th>year</th>\n",
              "      <th>logged_in</th>\n",
              "      <th>ns</th>\n",
              "      <th>sample</th>\n",
              "      <th>split</th>\n",
              "      <th>attack</th>\n",
              "    </tr>\n",
              "    <tr>\n",
              "      <th>rev_id</th>\n",
              "      <th></th>\n",
              "      <th></th>\n",
              "      <th></th>\n",
              "      <th></th>\n",
              "      <th></th>\n",
              "      <th></th>\n",
              "      <th></th>\n",
              "    </tr>\n",
              "  </thead>\n",
              "  <tbody>\n",
              "    <tr>\n",
              "      <th>37675</th>\n",
              "      <td>this is not creative  those are the dictionar...</td>\n",
              "      <td>2002</td>\n",
              "      <td>False</td>\n",
              "      <td>article</td>\n",
              "      <td>random</td>\n",
              "      <td>train</td>\n",
              "      <td>False</td>\n",
              "    </tr>\n",
              "    <tr>\n",
              "      <th>44816</th>\n",
              "      <td>the term standard model is itself less npov...</td>\n",
              "      <td>2002</td>\n",
              "      <td>False</td>\n",
              "      <td>article</td>\n",
              "      <td>random</td>\n",
              "      <td>train</td>\n",
              "      <td>False</td>\n",
              "    </tr>\n",
              "    <tr>\n",
              "      <th>49851</th>\n",
              "      <td>true or false the situation as of march 2002...</td>\n",
              "      <td>2002</td>\n",
              "      <td>False</td>\n",
              "      <td>article</td>\n",
              "      <td>random</td>\n",
              "      <td>train</td>\n",
              "      <td>False</td>\n",
              "    </tr>\n",
              "    <tr>\n",
              "      <th>89320</th>\n",
              "      <td>next maybe you could work on being less conde...</td>\n",
              "      <td>2002</td>\n",
              "      <td>True</td>\n",
              "      <td>article</td>\n",
              "      <td>random</td>\n",
              "      <td>dev</td>\n",
              "      <td>False</td>\n",
              "    </tr>\n",
              "    <tr>\n",
              "      <th>93890</th>\n",
              "      <td>this page will need disambiguation</td>\n",
              "      <td>2002</td>\n",
              "      <td>True</td>\n",
              "      <td>article</td>\n",
              "      <td>random</td>\n",
              "      <td>train</td>\n",
              "      <td>False</td>\n",
              "    </tr>\n",
              "  </tbody>\n",
              "</table>\n",
              "</div>\n",
              "      <button class=\"colab-df-convert\" onclick=\"convertToInteractive('df-e925d904-93b9-4dce-aeaa-383009847935')\"\n",
              "              title=\"Convert this dataframe to an interactive table.\"\n",
              "              style=\"display:none;\">\n",
              "        \n",
              "  <svg xmlns=\"http://www.w3.org/2000/svg\" height=\"24px\"viewBox=\"0 0 24 24\"\n",
              "       width=\"24px\">\n",
              "    <path d=\"M0 0h24v24H0V0z\" fill=\"none\"/>\n",
              "    <path d=\"M18.56 5.44l.94 2.06.94-2.06 2.06-.94-2.06-.94-.94-2.06-.94 2.06-2.06.94zm-11 1L8.5 8.5l.94-2.06 2.06-.94-2.06-.94L8.5 2.5l-.94 2.06-2.06.94zm10 10l.94 2.06.94-2.06 2.06-.94-2.06-.94-.94-2.06-.94 2.06-2.06.94z\"/><path d=\"M17.41 7.96l-1.37-1.37c-.4-.4-.92-.59-1.43-.59-.52 0-1.04.2-1.43.59L10.3 9.45l-7.72 7.72c-.78.78-.78 2.05 0 2.83L4 21.41c.39.39.9.59 1.41.59.51 0 1.02-.2 1.41-.59l7.78-7.78 2.81-2.81c.8-.78.8-2.07 0-2.86zM5.41 20L4 18.59l7.72-7.72 1.47 1.35L5.41 20z\"/>\n",
              "  </svg>\n",
              "      </button>\n",
              "      \n",
              "  <style>\n",
              "    .colab-df-container {\n",
              "      display:flex;\n",
              "      flex-wrap:wrap;\n",
              "      gap: 12px;\n",
              "    }\n",
              "\n",
              "    .colab-df-convert {\n",
              "      background-color: #E8F0FE;\n",
              "      border: none;\n",
              "      border-radius: 50%;\n",
              "      cursor: pointer;\n",
              "      display: none;\n",
              "      fill: #1967D2;\n",
              "      height: 32px;\n",
              "      padding: 0 0 0 0;\n",
              "      width: 32px;\n",
              "    }\n",
              "\n",
              "    .colab-df-convert:hover {\n",
              "      background-color: #E2EBFA;\n",
              "      box-shadow: 0px 1px 2px rgba(60, 64, 67, 0.3), 0px 1px 3px 1px rgba(60, 64, 67, 0.15);\n",
              "      fill: #174EA6;\n",
              "    }\n",
              "\n",
              "    [theme=dark] .colab-df-convert {\n",
              "      background-color: #3B4455;\n",
              "      fill: #D2E3FC;\n",
              "    }\n",
              "\n",
              "    [theme=dark] .colab-df-convert:hover {\n",
              "      background-color: #434B5C;\n",
              "      box-shadow: 0px 1px 3px 1px rgba(0, 0, 0, 0.15);\n",
              "      filter: drop-shadow(0px 1px 2px rgba(0, 0, 0, 0.3));\n",
              "      fill: #FFFFFF;\n",
              "    }\n",
              "  </style>\n",
              "\n",
              "      <script>\n",
              "        const buttonEl =\n",
              "          document.querySelector('#df-e925d904-93b9-4dce-aeaa-383009847935 button.colab-df-convert');\n",
              "        buttonEl.style.display =\n",
              "          google.colab.kernel.accessAllowed ? 'block' : 'none';\n",
              "\n",
              "        async function convertToInteractive(key) {\n",
              "          const element = document.querySelector('#df-e925d904-93b9-4dce-aeaa-383009847935');\n",
              "          const dataTable =\n",
              "            await google.colab.kernel.invokeFunction('convertToInteractive',\n",
              "                                                     [key], {});\n",
              "          if (!dataTable) return;\n",
              "\n",
              "          const docLinkHtml = 'Like what you see? Visit the ' +\n",
              "            '<a target=\"_blank\" href=https://colab.research.google.com/notebooks/data_table.ipynb>data table notebook</a>'\n",
              "            + ' to learn more about interactive tables.';\n",
              "          element.innerHTML = '';\n",
              "          dataTable['output_type'] = 'display_data';\n",
              "          await google.colab.output.renderOutput(dataTable, element);\n",
              "          const docLink = document.createElement('div');\n",
              "          docLink.innerHTML = docLinkHtml;\n",
              "          element.appendChild(docLink);\n",
              "        }\n",
              "      </script>\n",
              "    </div>\n",
              "  </div>\n",
              "  "
            ]
          },
          "metadata": {},
          "execution_count": 49
        }
      ]
    },
    {
      "cell_type": "code",
      "source": [
        "swear_words = \"/content/drive/MyDrive/Main_Project/Detecting-Cyberbullying-Across-SMPs-master/data 2/swear_words.txt\"\n",
        "word_list = []\n",
        "with open(swear_words) as f:\n",
        "    word_list = f.read().splitlines()"
      ],
      "metadata": {
        "id": "enaLzKHp-rJn"
      },
      "execution_count": null,
      "outputs": []
    },
    {
      "cell_type": "code",
      "source": [
        "from textblob import TextBlob\n",
        "def get_bad_word_count(post):\n",
        "    x = tokens(post)\n",
        "    count = 0\n",
        "    bad_words = []\n",
        "    for word in x:\n",
        "        if word in word_list:\n",
        "            count+=1\n",
        "            bad_words.append(word)\n",
        "    return count, str(bad_words)"
      ],
      "metadata": {
        "id": "xItZfHnQ-rLv"
      },
      "execution_count": null,
      "outputs": []
    },
    {
      "cell_type": "code",
      "source": [
        "comments['bad_word_count'],comments['bad_word_list']= zip(*comments['comment'].map(get_bad_word_count)) \n"
      ],
      "metadata": {
        "id": "LiZ1tc-Ov43M"
      },
      "execution_count": null,
      "outputs": []
    },
    {
      "cell_type": "code",
      "source": [
        "total = len(comments)\n",
        "bully = len(comments[comments['attack']==1])\n",
        "swear = len(comments[comments['bad_word_count']>0])\n",
        "swear_bully = len(comments[(comments['bad_word_count']>0) & (comments['attack']==1) ])\n"
      ],
      "metadata": {
        "id": "AWEaZBtTvpdw"
      },
      "execution_count": null,
      "outputs": []
    },
    {
      "cell_type": "code",
      "source": [
        "P_B = float(bully)/total\n",
        "P_S = float(swear)/total\n",
        "#P_A = float(anonymous)/total\n",
        "P_B_S = float(swear_bully)/swear\n",
        "P_S_B = float(swear_bully)/bully\n",
        "P_A_B = float(anonymous_bully)/bully\n"
      ],
      "metadata": {
        "id": "sh0MMby0A4VD"
      },
      "execution_count": null,
      "outputs": []
    },
    {
      "cell_type": "code",
      "source": [
        "print(\"P(B): \" + str(P_B))\n",
        "print(\"P(S): \" + str(P_S))\n"
      ],
      "metadata": {
        "colab": {
          "base_uri": "https://localhost:8080/"
        },
        "id": "yKSYyek5A4Xy",
        "outputId": "1a83aac5-c07a-42e9-c321-384e1bb520eb"
      },
      "execution_count": null,
      "outputs": [
        {
          "output_type": "stream",
          "name": "stdout",
          "text": [
            "P(B): 0.31410814170292106\n",
            "P(S): 0.135052827843381\n"
          ]
        }
      ]
    },
    {
      "cell_type": "code",
      "source": [
        "print(\"P(B|S): \" + str(P_B_S))\n",
        "print(\"P(S|B): \" + str(P_S_B))\n",
        "print(\"P(A|B): \" + str(P_A_B))"
      ],
      "metadata": {
        "colab": {
          "base_uri": "https://localhost:8080/"
        },
        "id": "Gn4tq_ESA4Zh",
        "outputId": "2a789814-4e95-438b-ec5e-307c52b9d37e"
      },
      "execution_count": null,
      "outputs": [
        {
          "output_type": "stream",
          "name": "stdout",
          "text": [
            "P(B|S): 0.42982052462034054\n",
            "P(S|B): 0.184804115552038\n",
            "P(A|B): 1.5106846062524732\n"
          ]
        }
      ]
    },
    {
      "cell_type": "code",
      "source": [
        ""
      ],
      "metadata": {
        "id": "9Mdcplg9zXfY"
      },
      "execution_count": null,
      "outputs": []
    },
    {
      "cell_type": "code",
      "source": [
        ""
      ],
      "metadata": {
        "id": "ViZ2FeoNzXjO"
      },
      "execution_count": null,
      "outputs": []
    }
  ]
}